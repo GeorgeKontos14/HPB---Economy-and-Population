{
 "cells": [
  {
   "cell_type": "markdown",
   "metadata": {},
   "source": [
    "# Hierarchical Clustering of Countries Economic Development"
   ]
  },
  {
   "cell_type": "code",
   "execution_count": 1,
   "metadata": {},
   "outputs": [],
   "source": [
    "import numpy as np\n",
    "import csv\n",
    "import matplotlib.pyplot as plt\n",
    "import pandas as pd\n",
    "from sklearn.preprocessing import StandardScaler\n",
    "from sklearn.decomposition import PCA\n",
    "from sklearn.impute import KNNImputer\n",
    "from sklearn.metrics import silhouette_score\n",
    "from scipy.cluster.hierarchy import linkage, dendrogram, fcluster"
   ]
  },
  {
   "cell_type": "code",
   "execution_count": 2,
   "metadata": {},
   "outputs": [],
   "source": [
    "n = 113\n",
    "T_gdp = 118\n",
    "T_areas = 61\n",
    "T_pop = 118\n",
    "T_labor = 64\n",
    "T_currency = 58\n",
    "\n",
    "names_path = \"Data/names.txt\"\n",
    "gdp_path = \"Data/yp_raw.csv\"\n",
    "locations_path = \"Data/locations.csv\"\n",
    "population_path = \"Data/pop_raw.csv\"\n",
    "currency_path = \"Data/currency.csv\""
   ]
  },
  {
   "cell_type": "code",
   "execution_count": 3,
   "metadata": {},
   "outputs": [],
   "source": [
    "names = []\n",
    "with open(names_path, 'r') as file:\n",
    "    rows = file.readlines()\n",
    "    for row in rows:\n",
    "        names.append(row[:3])\n",
    "\n",
    "gdp = np.zeros((n,T_gdp))\n",
    "with open(gdp_path, 'r') as file:\n",
    "    rows = csv.reader(file)\n",
    "    for i, row in enumerate(rows):\n",
    "        for j, val in enumerate(row):\n",
    "            gdp[j][i] = float(val)\n",
    "gdp_data = gdp[:, -T_currency:]\n",
    "\n",
    "locations = np.zeros((n,2))\n",
    "with open(locations_path, 'r') as file:\n",
    "    rows = csv.reader(file)\n",
    "    for i, row in enumerate(rows):\n",
    "        locations[i][0] = float(row[0])\n",
    "        locations[i][1] = float(row[1])\n",
    "\n",
    "pop = np.zeros((n, T_pop))\n",
    "with open(population_path, 'r') as file:\n",
    "    rows = csv.reader(file)\n",
    "    for i, row in enumerate(rows):\n",
    "        for j, val in enumerate(row):\n",
    "            pop[j][i] = float(val)\n",
    "pop_data = pop[:, -T_currency:]\n",
    "\n",
    "currency = np.zeros((n, T_currency))\n",
    "with open(currency_path, 'r') as file:\n",
    "    rows = csv.reader(file)\n",
    "    for i, row in enumerate(rows):\n",
    "        for j, val in enumerate(row):\n",
    "            currency[i][j] = float(val)"
   ]
  },
  {
   "cell_type": "markdown",
   "metadata": {},
   "source": [
    "## PCA and Data Preparation"
   ]
  },
  {
   "cell_type": "code",
   "execution_count": 4,
   "metadata": {},
   "outputs": [],
   "source": [
    "df = pd.DataFrame({})\n",
    "variance = 0.95\n",
    "scaler = StandardScaler()"
   ]
  },
  {
   "cell_type": "markdown",
   "metadata": {},
   "source": [
    "### PCA for GDP"
   ]
  },
  {
   "cell_type": "code",
   "execution_count": 5,
   "metadata": {},
   "outputs": [],
   "source": [
    "gdp_scaled = scaler.fit_transform(gdp_data)\n",
    "gdp_components = PCA(n_components=variance).fit_transform(gdp_data)\n",
    "for i in range(gdp_components.shape[1]):\n",
    "    df[f\"GDP #{i}\"] = gdp_components[:,i]"
   ]
  },
  {
   "cell_type": "markdown",
   "metadata": {},
   "source": [
    "### PCA for Population"
   ]
  },
  {
   "cell_type": "code",
   "execution_count": 6,
   "metadata": {},
   "outputs": [],
   "source": [
    "pop_scaled = scaler.fit_transform(pop_data)\n",
    "pop_components = PCA(n_components=variance).fit_transform(pop_data)\n",
    "for i in range(pop_components.shape[1]):\n",
    "    df[f\"Population #{i}\"] = pop_components[:,i]"
   ]
  },
  {
   "cell_type": "markdown",
   "metadata": {},
   "source": [
    "### PCA for Currency"
   ]
  },
  {
   "cell_type": "code",
   "execution_count": 7,
   "metadata": {},
   "outputs": [],
   "source": [
    "imputer = KNNImputer(n_neighbors=3)\n",
    "currency_imputed = imputer.fit_transform(currency)\n",
    "currency_scaled = scaler.fit_transform(currency_imputed)\n",
    "currency_components = PCA(n_components=variance).fit_transform(currency_imputed)\n",
    "for i in range(currency_components.shape[1]):\n",
    "    df[f\"Currency #{i}\"] = currency_components[:,i]"
   ]
  },
  {
   "cell_type": "markdown",
   "metadata": {},
   "source": [
    "### Scaling the Data"
   ]
  },
  {
   "cell_type": "code",
   "execution_count": 8,
   "metadata": {},
   "outputs": [],
   "source": [
    "scaled_df = scaler.fit_transform(df)"
   ]
  },
  {
   "cell_type": "markdown",
   "metadata": {},
   "source": [
    "## Hierarchical Clustering Algorithms"
   ]
  },
  {
   "cell_type": "markdown",
   "metadata": {},
   "source": [
    "### Complete Linkage"
   ]
  },
  {
   "cell_type": "code",
   "execution_count": null,
   "metadata": {},
   "outputs": [],
   "source": [
    "complete1 = linkage(scaled_df, method='complete', metric='euclidean')\n",
    "plt.figure(figsize=(15, 7))\n",
    "dendrogram(complete1)\n",
    "plt.show()"
   ]
  },
  {
   "cell_type": "code",
   "execution_count": null,
   "metadata": {},
   "outputs": [],
   "source": [
    "complete_clusters1 = fcluster(complete1, 0.7*np.max(complete1[:,2]), criterion='distance')\n",
    "clusters, counts = np.unique(complete_clusters1, return_counts=True)\n",
    "print(\"Number of Clusters:\", len(clusters))\n",
    "print(\"Cluster Sizes:\", counts)\n",
    "print(\"Silhouette Score:\",silhouette_score(scaled_df, complete_clusters1))"
   ]
  },
  {
   "cell_type": "markdown",
   "metadata": {},
   "source": [
    "### Average Linkage"
   ]
  },
  {
   "cell_type": "code",
   "execution_count": null,
   "metadata": {},
   "outputs": [],
   "source": [
    "average1 = linkage(scaled_df, method='average', metric='euclidean')\n",
    "plt.figure(figsize=(15, 7))\n",
    "dendrogram(average1)\n",
    "plt.show()"
   ]
  },
  {
   "cell_type": "code",
   "execution_count": null,
   "metadata": {},
   "outputs": [],
   "source": [
    "average_clusters1 = fcluster(average1, 0.7*np.max(average1[:,2]), criterion='distance')\n",
    "clusters, counts = np.unique(average_clusters1, return_counts=True)\n",
    "print(\"Number of Clusters:\", len(clusters))\n",
    "print(\"Cluster Sizes:\", counts)\n",
    "print(\"Silhouette Score:\",silhouette_score(scaled_df, average_clusters1))"
   ]
  },
  {
   "cell_type": "markdown",
   "metadata": {},
   "source": [
    "### Single Linkage"
   ]
  },
  {
   "cell_type": "code",
   "execution_count": null,
   "metadata": {},
   "outputs": [],
   "source": [
    "single1 = linkage(scaled_df, method='single', metric='euclidean')\n",
    "plt.figure(figsize=(15, 7))\n",
    "dendrogram(single1)\n",
    "plt.show()"
   ]
  },
  {
   "cell_type": "code",
   "execution_count": null,
   "metadata": {},
   "outputs": [],
   "source": [
    "single_clusters1 = fcluster(single1, 0.7*np.max(single1[:,2]), criterion='distance')\n",
    "clusters, counts = np.unique(single_clusters1, return_counts=True)\n",
    "print(\"Number of Clusters:\", len(clusters))\n",
    "print(\"Cluster Sizes:\", counts)\n",
    "print(\"Silhouette Score:\",silhouette_score(scaled_df, single_clusters1))"
   ]
  },
  {
   "cell_type": "markdown",
   "metadata": {},
   "source": [
    "### Ward Linkage"
   ]
  },
  {
   "cell_type": "code",
   "execution_count": null,
   "metadata": {},
   "outputs": [],
   "source": [
    "ward1 = linkage(scaled_df, method='ward', metric='euclidean')\n",
    "plt.figure(figsize=(15, 7))\n",
    "dendrogram(ward1)\n",
    "plt.show()"
   ]
  },
  {
   "cell_type": "code",
   "execution_count": null,
   "metadata": {},
   "outputs": [],
   "source": [
    "ward_clusters1 = fcluster(ward1, 0.7*np.max(ward1[:,2]), criterion='distance')\n",
    "clusters, counts = np.unique(ward_clusters1, return_counts=True)\n",
    "print(\"Number of Clusters:\", len(clusters))\n",
    "print(\"Cluster Sizes:\", counts)\n",
    "print(\"Silhouette Score:\",silhouette_score(scaled_df, ward_clusters1))"
   ]
  }
 ],
 "metadata": {
  "kernelspec": {
   "display_name": "Python 3",
   "language": "python",
   "name": "python3"
  },
  "language_info": {
   "codemirror_mode": {
    "name": "ipython",
    "version": 3
   },
   "file_extension": ".py",
   "mimetype": "text/x-python",
   "name": "python",
   "nbconvert_exporter": "python",
   "pygments_lexer": "ipython3",
   "version": "3.10.11"
  }
 },
 "nbformat": 4,
 "nbformat_minor": 2
}
