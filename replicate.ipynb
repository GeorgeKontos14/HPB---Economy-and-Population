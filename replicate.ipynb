{
 "cells": [
  {
   "cell_type": "code",
   "execution_count": 1,
   "metadata": {},
   "outputs": [],
   "source": [
    "import State\n",
    "from Prepare import *\n",
    "from Steps import *"
   ]
  },
  {
   "cell_type": "code",
   "execution_count": 2,
   "metadata": {},
   "outputs": [],
   "source": [
    "no_kappas: int=25\n",
    "no_lambdas: int=25 \n",
    "no_rhos: int=25\n",
    "no_thetas: int=100 \n",
    "Deltavar: float = 0.01**2\n",
    "pop_path = 'Data/pop_raw.csv'\n",
    "yp_path = 'Data/yp_raw.csv'"
   ]
  },
  {
   "cell_type": "code",
   "execution_count": 3,
   "metadata": {},
   "outputs": [],
   "source": [
    "kappa_grid, lambda_grid, rho_grid = grids(no_kappas, no_lambdas, no_rhos)\n",
    "Xraw, R, Delta, Deltainv, Xfcstf, cutoff, G, V = baseline_trend(Deltavar)\n",
    "Sigma_m, Sigma_m_inv, Det_Sigma_m, Chol_Sigma_m, mfcstfm, cholfcstfm, ssv, ssh = Sigma_M(rho_grid, R)\n",
    "Sigma_A, Sigma_A_inv, Chol_Sigma_A, mfcstfa, cholfcstfa = Sigma_a(R)\n",
    "gammas, half_life_dist, theta = thetas(no_thetas)\n",
    "Sigma_U, Sigma_U_inv, Chol_Sigma_U, Det_Sigma_U, mfcstu, cholfcstu, Sfcstu = Sigma_Us(gammas,R,no_thetas)\n",
    "regions, F, SuAA, SuAAS = loadRegions(no_thetas, pop_path,yp_path,R,V,cutoff,Xraw,Sigma_U)"
   ]
  },
  {
   "cell_type": "markdown",
   "metadata": {},
   "source": [
    "## Initialization"
   ]
  },
  {
   "cell_type": "code",
   "execution_count": 4,
   "metadata": {},
   "outputs": [],
   "source": [
    "initialize(regions, no_kappas, no_lambdas, no_thetas)"
   ]
  }
 ],
 "metadata": {
  "kernelspec": {
   "display_name": "Python 3",
   "language": "python",
   "name": "python3"
  },
  "language_info": {
   "codemirror_mode": {
    "name": "ipython",
    "version": 3
   },
   "file_extension": ".py",
   "mimetype": "text/x-python",
   "name": "python",
   "nbconvert_exporter": "python",
   "pygments_lexer": "ipython3",
   "version": "3.10.11"
  }
 },
 "nbformat": 4,
 "nbformat_minor": 2
}
