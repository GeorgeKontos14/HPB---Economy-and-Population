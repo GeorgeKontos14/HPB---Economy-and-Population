{
 "cells": [
  {
   "cell_type": "markdown",
   "metadata": {},
   "source": [
    "# Probabilistic Forecasting of GDP Growth\n",
    "\n",
    "## Introduction\n",
    "\n",
    "The aim of this notebook is to present machine learning approaches for producing univariate and joint probabilistic forecasts of the GDP growth of the 113 countries considered in this experiment.\n",
    "\n",
    "### Probabilistic Forecasting\n",
    "\n",
    "In this notebook, probabilistic forecasting is favored over point forecasting to indicate the range in which the future value is most likely to hold, as the small amount of input data limits the ability of the models to predict the exact future values successfully.\n",
    "\n",
    "### Imports"
   ]
  },
  {
   "cell_type": "code",
   "execution_count": null,
   "metadata": {},
   "outputs": [],
   "source": [
    "import numpy as np\n",
    "\n",
    "from Forecasting import UnivariateForecasts, MultivariateForecasts\n",
    "\n",
    "from Utils import DataUtils, TimeSeriesUtils, VisualUtils"
   ]
  },
  {
   "cell_type": "markdown",
   "metadata": {},
   "source": [
    "### Data\n",
    "\n",
    "The input data used is the logarithm of the GDP per capita data of 113 countries over a 58 year span (1960-2017). The data is loaded from a `.csv` file to create a $113 \\times 58$ matrix."
   ]
  },
  {
   "cell_type": "code",
   "execution_count": null,
   "metadata": {},
   "outputs": [],
   "source": [
    "n = 113\n",
    "T_gdp = 118\n",
    "T = 58\n",
    "start_year = 1960\n",
    "\n",
    "names_path = \"Data/names.txt\"\n",
    "gdp_path = \"Data/yp_raw.csv\"\n",
    "labels_path = \"Results/clustering_labels.csv\""
   ]
  },
  {
   "cell_type": "code",
   "execution_count": null,
   "metadata": {},
   "outputs": [],
   "source": [
    "names, gdp = DataUtils.load_forecast_data(\n",
    "    names_path, gdp_path, n, T_gdp\n",
    ")\n",
    "labels = DataUtils.load_labels(labels_path)\n",
    "gdp_data = np.log(gdp[:, -T:])"
   ]
  },
  {
   "cell_type": "markdown",
   "metadata": {},
   "source": [
    "## Univariate Forecasting\n",
    "\n",
    "### Gradient Boosting Regression\n",
    "\n",
    "For univariate forecasting, Gradient Boosting Regression is used through the `sklearn` API. Gradient Boosting Regression builds an ensemble of weak learners (i.e. decision trees) to sequentially minimize a loss function by optimizing predictions step-by-step. It is well-suited for probabilistic forecasting because its ability to model uncertainty and variability in the target data can be leveraged to produce prediction intervals.\n",
    "\n",
    "### Recursive Univariate Forecasts\n",
    "\n",
    "In order to add the confidence of the model for long-horizon forecasts, we use previously predicted values as additional input to our models. This can be implemented easily thanks to the `skforecast` framework. This framework takes any regressor and performs recursive forecasts with it using a rolling window. Additional statistics, such as the mean or the median, can be calculated and considered over each window.\n",
    "\n",
    "### Model Configuration through ARIMA\n",
    "\n",
    "For the recursive forecast, three different hyperparameters shall be predetermined before training and testing the forecast:\n",
    "- `lags`: The number of previous values to be considered for the prediction of the next value.\n",
    "- `window_size`: The size of the window over which additional statistics are calculated.\n",
    "- `differentiation`: The number of times the time series shall be differenced\n",
    "\n",
    "One can easily observe that these hyperparameters resemble the order tuple for an $ARIMA(p,d,q)$ process. For this reason, the `pmdarima` library is used to determine the optimal $(p,d,q)$ tuple of each time series, which is then used as the configuration of the forecaster. An overview of the distribution of the orders for each country is plotted below."
   ]
  },
  {
   "cell_type": "code",
   "execution_count": null,
   "metadata": {},
   "outputs": [],
   "source": [
    "arima_orders = TimeSeriesUtils.arima_orders(gdp_data)\n",
    "VisualUtils.plot_arima_orders(arima_orders)"
   ]
  },
  {
   "cell_type": "markdown",
   "metadata": {},
   "source": [
    "### Rolling Window Univariate Forecasting\n",
    "\n",
    "Below is a calculation of a $67\\%$ prediction interval for a 50-year horizon. The model is first trained on a portion of the original time series (i.e. $80\\%$). Then, to achieve greater forecast accuracy, the model is trained again on the entire time series and then recursive forecasting for the entire horizon is performed."
   ]
  },
  {
   "cell_type": "code",
   "execution_count": null,
   "metadata": {},
   "outputs": [],
   "source": [
    "ind = names.index('SRB')\n",
    "selected = gdp_data[ind]\n",
    "train_split = 0.8\n",
    "lower_quant = 17\n",
    "upper_quant = 84\n",
    "horizon = 50\n",
    "pred_int_perc = 67\n",
    "\n",
    "data_train, data_test, test_preds, horizon_preds = UnivariateForecasts.univariate_forecast(\n",
    "    selected,\n",
    "    arima_orders[ind],\n",
    "    train_split,\n",
    "    start_year,\n",
    "    horizon,\n",
    "    lower_quant,\n",
    "    upper_quant,\n",
    "    True\n",
    ")\n",
    "\n",
    "VisualUtils.plot_forecast_intervals(\n",
    "    data_train,\n",
    "    data_test,\n",
    "    names[ind],\n",
    "    test_preds,\n",
    "    horizon_preds,\n",
    "    pred_int_perc\n",
    ")"
   ]
  },
  {
   "cell_type": "markdown",
   "metadata": {},
   "source": [
    "## Independent Multi-Series Forecasting\n",
    "\n",
    "This section includes simultaneous probabilistic recursive predictions for multiple time series, without considering cross-series dependencies. Modelling multiple time series together adds to the robustness of the model, epsecially under the lack of data for the specific experiment. First, we train a single model on the entire dataset of all the countries. Afterwards, we make predictions for individual clusters calculated from Kernel $13$-Means with a Global Alignment Kernel. For this experiment, the cluster containing Iraq, Russia, Serbia and Venezuela is examined. \n",
    "\n",
    "### Predictions on the Entire Dataset"
   ]
  },
  {
   "cell_type": "code",
   "execution_count": null,
   "metadata": {},
   "outputs": [],
   "source": [
    "cluster_ind = 4\n",
    "cluster = [name for i, name in enumerate(names) if labels[i] == cluster_ind]"
   ]
  },
  {
   "cell_type": "code",
   "execution_count": null,
   "metadata": {},
   "outputs": [],
   "source": [
    "train_split = 0.8\n",
    "lower_quant = 17\n",
    "upper_quant = 84\n",
    "horizon = 50\n",
    "pred_int_perc = 67\n",
    "\n",
    "data_train, data_test, test_preds, horizon_preds = MultivariateForecasts.multiseries_independent_forecasts(\n",
    "    y = gdp_data,\n",
    "    countries = names,\n",
    "    train_split=train_split,\n",
    "    start_year=start_year,\n",
    "    horizon=horizon,\n",
    "    lower_quantile=lower_quant,\n",
    "    upper_quantile=upper_quant\n",
    ")\n",
    "\n",
    "\n",
    "for country in cluster:\n",
    "    selected_test_preds = DataUtils.select_predictions(country, test_preds)\n",
    "    selected_horizon_preds = DataUtils.select_predictions(country, horizon_preds)\n",
    "\n",
    "    VisualUtils.plot_forecast_intervals(\n",
    "        data_train[country],\n",
    "        data_test[country],\n",
    "        country,\n",
    "        selected_test_preds,\n",
    "        selected_horizon_preds, \n",
    "        67\n",
    "    )"
   ]
  },
  {
   "cell_type": "markdown",
   "metadata": {},
   "source": [
    "### Predictions on clusters"
   ]
  },
  {
   "cell_type": "code",
   "execution_count": null,
   "metadata": {},
   "outputs": [],
   "source": [
    "cluster_data = gdp_data[labels==cluster_ind]\n",
    "orders_cluster = arima_orders[labels==cluster_ind]\n",
    "\n",
    "data_train, data_test, test_preds, horizon_preds = MultivariateForecasts.multiseries_independent_forecasts(\n",
    "    y = cluster_data,\n",
    "    countries = cluster,\n",
    "    train_split=train_split,\n",
    "    start_year=start_year,\n",
    "    horizon=horizon,\n",
    "    lower_quantile=lower_quant,\n",
    "    upper_quantile=upper_quant\n",
    ")\n",
    "\n",
    "\n",
    "for country in cluster:\n",
    "    selected_test_preds = DataUtils.select_predictions(country, test_preds)\n",
    "    selected_horizon_preds = DataUtils.select_predictions(country, horizon_preds)\n",
    "\n",
    "    VisualUtils.plot_forecast_intervals(\n",
    "        data_train[country],\n",
    "        data_test[country],\n",
    "        country,\n",
    "        selected_test_preds,\n",
    "        selected_horizon_preds, \n",
    "        67\n",
    "    )"
   ]
  },
  {
   "cell_type": "markdown",
   "metadata": {},
   "source": [
    "## Multivariate Time Series Forecasting: Many-to-one\n",
    "\n",
    "In the following experiments, the past values of all the time series in the dataset are assumed to affect the future values of each individual series. Due to effeciency limitations, the framework implemented by `skforecast` allows to only perform future values of a single time series. The code in this section bypasses the problem by creating a different model for each variable of interest. The same cluster as in the previous section is used for illustration.\n",
    "\n",
    "### Predictions on the Entire Dataset"
   ]
  },
  {
   "cell_type": "code",
   "execution_count": null,
   "metadata": {},
   "outputs": [],
   "source": [
    "train_split = 0.8\n",
    "lower_quant = 17\n",
    "upper_quant = 84\n",
    "horizon = 50\n",
    "pred_int_perc = 67\n",
    "\n",
    "data_train, data_test, test_preds, horizon_preds = MultivariateForecasts.many_to_one_forecasts(\n",
    "    y = gdp_data,\n",
    "    countries = names,\n",
    "    train_split=train_split,\n",
    "    start_year=start_year,\n",
    "    horizon=horizon,\n",
    "    lower_quantile=lower_quant,\n",
    "    upper_quantile=upper_quant,\n",
    "    countries_to_predict=cluster\n",
    ")\n",
    "\n",
    "for country in cluster:\n",
    "    selected_test_preds = DataUtils.select_predictions(country, test_preds)\n",
    "    selected_horizon_preds = DataUtils.select_predictions(country, horizon_preds)\n",
    "\n",
    "    VisualUtils.plot_forecast_intervals(\n",
    "        data_train[country],\n",
    "        data_test[country],\n",
    "        country,\n",
    "        selected_test_preds,\n",
    "        selected_horizon_preds, \n",
    "        67\n",
    "    )"
   ]
  },
  {
   "cell_type": "markdown",
   "metadata": {},
   "source": [
    "### Predictions on clusters"
   ]
  },
  {
   "cell_type": "code",
   "execution_count": null,
   "metadata": {},
   "outputs": [],
   "source": [
    "data_train, data_test, test_preds, horizon_preds = MultivariateForecasts.many_to_one_forecasts(\n",
    "    y = cluster_data,\n",
    "    countries = cluster,\n",
    "    train_split=train_split,\n",
    "    start_year=start_year,\n",
    "    horizon=horizon,\n",
    "    lower_quantile=lower_quant,\n",
    "    upper_quantile=upper_quant\n",
    ")\n",
    "\n",
    "for country in cluster:\n",
    "    selected_test_preds = DataUtils.select_predictions(country, test_preds)\n",
    "    selected_horizon_preds = DataUtils.select_predictions(country, horizon_preds)\n",
    "\n",
    "    VisualUtils.plot_forecast_intervals(\n",
    "        data_train[country],\n",
    "        data_test[country],\n",
    "        country,\n",
    "        selected_test_preds,\n",
    "        selected_horizon_preds, \n",
    "        67\n",
    "    )"
   ]
  },
  {
   "cell_type": "markdown",
   "metadata": {},
   "source": [
    "## Multivariate Time Series Forecasting: Many-to-many\n",
    "\n",
    "In the following experiments, the past values of all the time series in the dataset are assumed to affect the future values of each individual series and an adjusted version of the previous model is used to perform predictions for multiple series at the same time.\n",
    "\n",
    "### Predictions on the Entire Dataset"
   ]
  },
  {
   "cell_type": "code",
   "execution_count": null,
   "metadata": {},
   "outputs": [],
   "source": [
    "train_split = 0.8\n",
    "lower_quant = 17\n",
    "upper_quant = 84\n",
    "horizon = 50\n",
    "pred_int_perc = 67\n",
    "\n",
    "data_train, data_test, test_preds, horizon_preds = MultivariateForecasts.many_to_many_forecasts(\n",
    "    y = gdp_data,\n",
    "    countries = names,\n",
    "    train_split=train_split,\n",
    "    start_year=start_year,\n",
    "    horizon=horizon,\n",
    "    lower_quantile=lower_quant,\n",
    "    upper_quantile=upper_quant,\n",
    "    countries_to_predict=cluster\n",
    ")\n",
    "\n",
    "for country in cluster:\n",
    "    selected_test_preds = DataUtils.select_predictions(country, test_preds)\n",
    "    selected_horizon_preds = DataUtils.select_predictions(country, horizon_preds)\n",
    "\n",
    "    VisualUtils.plot_forecast_intervals(\n",
    "        data_train[country],\n",
    "        data_test[country],\n",
    "        country,\n",
    "        selected_test_preds,\n",
    "        selected_horizon_preds, \n",
    "        67\n",
    "    )"
   ]
  },
  {
   "cell_type": "markdown",
   "metadata": {},
   "source": [
    "### Predictions on clusters"
   ]
  },
  {
   "cell_type": "code",
   "execution_count": null,
   "metadata": {},
   "outputs": [],
   "source": [
    "data_train, data_test, test_preds, horizon_preds = MultivariateForecasts.many_to_many_forecasts(\n",
    "    y = cluster_data,\n",
    "    countries = cluster,\n",
    "    train_split=train_split,\n",
    "    start_year=start_year,\n",
    "    horizon=horizon,\n",
    "    lower_quantile=lower_quant,\n",
    "    upper_quantile=upper_quant\n",
    ")\n",
    "\n",
    "for country in cluster:\n",
    "    selected_test_preds = DataUtils.select_predictions(country, test_preds)\n",
    "    selected_horizon_preds = DataUtils.select_predictions(country, horizon_preds)\n",
    "\n",
    "    VisualUtils.plot_forecast_intervals(\n",
    "        data_train[country],\n",
    "        data_test[country],\n",
    "        country,\n",
    "        selected_test_preds,\n",
    "        selected_horizon_preds, \n",
    "        67\n",
    "    )"
   ]
  },
  {
   "cell_type": "markdown",
   "metadata": {},
   "source": [
    "## Multivariate Time Series Forecasting: Recurrent Neural Networks\n",
    "\n",
    "Recurrent neural networks can also be used to produce probabilistic forecasting. The functionality offered by `skforecast` for utilizing RNNs for time series forecasting has been augmented to support prediction bootstrapping.\n",
    "\n",
    "### Predictions on the Entire Dataset"
   ]
  },
  {
   "cell_type": "code",
   "execution_count": null,
   "metadata": {},
   "outputs": [],
   "source": [
    "train_split = 0.8\n",
    "lower_quant = 17\n",
    "upper_quant = 84\n",
    "horizon = 50\n",
    "pred_int_perc = 67\n",
    "layer = 'LSTM'\n",
    "recurrent_units = 4\n",
    "dense_units = 16\n",
    "\n",
    "data_train, data_test, test_preds, horizon_preds = MultivariateForecasts.rnn_forecasts(\n",
    "    y = gdp_data,\n",
    "    countries = names,\n",
    "    layer_type=layer,\n",
    "    train_split=train_split,\n",
    "    start_year=start_year,\n",
    "    horizon=horizon,\n",
    "    lower_quantile=lower_quant,\n",
    "    upper_quantile=upper_quant,\n",
    "    countries_to_predict=cluster,\n",
    "    differentiation=1\n",
    ")\n",
    "\n",
    "for country in cluster:\n",
    "    selected_test_preds = DataUtils.select_predictions(country, test_preds)\n",
    "    selected_horizon_preds = DataUtils.select_predictions(country, horizon_preds)\n",
    "\n",
    "    VisualUtils.plot_forecast_intervals(\n",
    "        data_train[country],\n",
    "        data_test[country],\n",
    "        country,\n",
    "        selected_test_preds,\n",
    "        selected_horizon_preds, \n",
    "        67\n",
    "    )"
   ]
  },
  {
   "cell_type": "markdown",
   "metadata": {},
   "source": [
    "### Predictions on clusters"
   ]
  },
  {
   "cell_type": "code",
   "execution_count": null,
   "metadata": {},
   "outputs": [],
   "source": [
    "data_train, data_test, test_preds, horizon_preds = MultivariateForecasts.rnn_forecasts(\n",
    "    y = cluster_data,\n",
    "    countries = cluster,\n",
    "    layer_type=layer,\n",
    "    train_split=train_split,\n",
    "    start_year=start_year,\n",
    "    horizon=horizon,\n",
    "    lower_quantile=lower_quant,\n",
    "    upper_quantile=upper_quant,\n",
    "    differentiation=1\n",
    ")\n",
    "\n",
    "for country in cluster:\n",
    "    selected_test_preds = DataUtils.select_predictions(country, test_preds)\n",
    "    selected_horizon_preds = DataUtils.select_predictions(country, horizon_preds)\n",
    "\n",
    "    VisualUtils.plot_forecast_intervals(\n",
    "        data_train[country],\n",
    "        data_test[country],\n",
    "        country,\n",
    "        selected_test_preds,\n",
    "        selected_horizon_preds, \n",
    "        67\n",
    "    )"
   ]
  }
 ],
 "metadata": {
  "kernelspec": {
   "display_name": "Python 3",
   "language": "python",
   "name": "python3"
  },
  "language_info": {
   "codemirror_mode": {
    "name": "ipython",
    "version": 3
   },
   "file_extension": ".py",
   "mimetype": "text/x-python",
   "name": "python",
   "nbconvert_exporter": "python",
   "pygments_lexer": "ipython3",
   "version": "3.10.11"
  }
 },
 "nbformat": 4,
 "nbformat_minor": 2
}
